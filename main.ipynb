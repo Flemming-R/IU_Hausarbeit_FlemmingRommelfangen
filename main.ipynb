{
 "cells": [
  {
   "cell_type": "code",
   "execution_count": 1,
   "metadata": {},
   "outputs": [
    {
     "name": "stdout",
     "output_type": "stream",
     "text": [
      "Ollama server is now running in the background.\n"
     ]
    }
   ],
   "source": [
    "import subprocess\n",
    "\n",
    "# Startet `ollama serve` im Hintergrund\n",
    "process = subprocess.Popen([\"ollama\", \"serve\"], stdout=subprocess.PIPE, stderr=subprocess.PIPE)\n",
    "print(\"Ollama server is now running in the background.\") "
   ]
  },
  {
   "cell_type": "code",
   "execution_count": 2,
   "metadata": {},
   "outputs": [],
   "source": [
    "# Lege das LLM fest, mit dem nachfolgend gearbeitet wird.\n",
    "model = \"qwen2.5:7b\"\n",
    "model_custom = \"custom_qwen2.5:7b_seed_42_temp_0\""
   ]
  },
  {
   "cell_type": "code",
   "execution_count": 3,
   "metadata": {},
   "outputs": [
    {
     "name": "stdout",
     "output_type": "stream",
     "text": [
      "\n"
     ]
    }
   ],
   "source": [
    "# Code zum Erstellen eines Modells mit festgelegtem Seed und Temperatur in der Modelfile\n",
    "\n",
    "# Definieren des Inhalts der Modelfile mit einem spezifischen Modell, Seed und Temperatur\n",
    "seed_value = 42  # Beispiel-Seed-Wert für reproduzierbare Ergebnisse\n",
    "temperature_value = 0  # Temperatur auf 0 setzen für deterministische Ausgaben\n",
    "\n",
    "# Inhalt der Modelfile mit Seed- und Temperaturparametern\n",
    "modelfile_content = f\"FROM {model}\\nPARAMETER seed {seed_value}\\nPARAMETER temperature {temperature_value}\\n\"\n",
    "\n",
    "# Schreiben des Inhalts in eine Modelfile\n",
    "modelfile_path = \"Modelfile\"  # Pfad, um die Modelfile im aktuellen Verzeichnis zu speichern\n",
    "\n",
    "with open(modelfile_path, \"w\") as modelfile:\n",
    "    modelfile.write(modelfile_content)\n",
    "\n",
    "# Befehl zum Erstellen des Modells mithilfe der angepassten Modelfile\n",
    "command = [\"ollama\", \"create\", \"custom_qwen2.5:7b_seed_42_temp_0\", \"-f\", modelfile_path]\n",
    "\n",
    "# Führen Sie den Befehl aus, um das Modell zu erstellen\n",
    "try:\n",
    "    result = subprocess.run(command, capture_output=True, text=True, check=True)\n",
    "    print(result.stdout)  # Gibt die Standardausgabe aus, falls erfolgreich\n",
    "except subprocess.CalledProcessError as e:\n",
    "    print(\"An error occurred:\", e.stderr)  # Zeigt eventuelle Fehlermeldungen an, falls der Befehl fehlschlägt\n",
    "except FileNotFoundError:\n",
    "    print(\"ERROR: 'ollama' command not found. Ensure that the Ollama CLI is installed and accessible.\")\n"
   ]
  },
  {
   "cell_type": "code",
   "execution_count": null,
   "metadata": {},
   "outputs": [
    {
     "name": "stdout",
     "output_type": "stream",
     "text": [
      "\n"
     ]
    }
   ],
   "source": [
    "# Gewähltes Modell von Ollama herunterladen\n",
    "process = subprocess.Popen([\"ollama\", \"pull\", model], stdout=subprocess.PIPE, stderr=subprocess.PIPE)"
   ]
  },
  {
   "cell_type": "code",
   "execution_count": 5,
   "metadata": {},
   "outputs": [
    {
     "name": "stdout",
     "output_type": "stream",
     "text": [
      "CSV-Dateien wurden erfolgreich im 'tables'-Ordner gespeichert.\n"
     ]
    }
   ],
   "source": [
    "import faker\n",
    "import pandas as pd\n",
    "import random\n",
    "from faker import Faker\n",
    "from datetime import datetime, timedelta\n",
    "import os\n",
    "\n",
    "# Seed setzen für Reproduzierbarkeit\n",
    "random.seed(42)\n",
    "Faker.seed(42)\n",
    "fake = Faker()\n",
    "\n",
    "# Ordner 'tables' erstellen, falls nicht vorhanden\n",
    "output_folder = \"tables\"\n",
    "os.makedirs(output_folder, exist_ok=True)\n",
    "\n",
    "# Funktion, um zufällige Datumswerte zu erzeugen\n",
    "def random_date(start, end):\n",
    "    return start + timedelta(days=random.randint(0, (end - start).days))\n",
    "\n",
    "# Anzahl der Datensätze, die für die Datenbank generiert werden sollen\n",
    "num_students = 100\n",
    "num_courses = 10\n",
    "num_professors = 5\n",
    "num_departments = 3\n",
    "num_enrollments = 300\n",
    "\n",
    "# 1. STUDENT_DIMENSION - Generierung der Studentendaten\n",
    "student_data = {\n",
    "    \"Student_ID\": range(1, num_students + 1),\n",
    "    \"First_Name\": [fake.first_name() for _ in range(num_students)],\n",
    "    \"Last_Name\": [fake.last_name() for _ in range(num_students)],\n",
    "    \"Date_of_Birth\": [random_date(datetime(1990, 1, 1), datetime(2002, 12, 31)).date() for _ in range(num_students)],\n",
    "    \"Enrollment_Date\": [random_date(datetime(2020, 1, 1), datetime(2023, 12, 31)).date() for _ in range(num_students)]\n",
    "}\n",
    "\n",
    "# Erstellung des DataFrames\n",
    "student_df = pd.DataFrame(student_data)\n",
    "\n",
    "# E-Mail-Adresse basierend auf First_Name und Last_Name generieren; wenn hier nochmal random verwendet wird, erhalten wir sonst abweichende Namen in der Mailadresse.\n",
    "student_df[\"Email\"] = student_df[\"First_Name\"].str.lower() + \".\" + student_df[\"Last_Name\"].str.lower() + \"@example.com\"\n",
    "\n",
    "# 2. COURSE_DIMENSION - Generierung der Kursdaten\n",
    "course_names = [\n",
    "    \"Data Science Basics\", \"Advanced Machine Learning\", \"Database Systems\",\n",
    "    \"Statistics for Data Science\", \"Programming with Python\", \"Ethics in AI\",\n",
    "    \"Big Data Analysis\", \"Data Visualization\", \"Project Management\", \"Deep Learning\"\n",
    "]\n",
    "course_data = {\n",
    "    \"Course_ID\": range(1, num_courses + 1),\n",
    "    \"Course_Name\": course_names,\n",
    "    \"Credits\": [random.choice([3, 4, 5]) for _ in range(num_courses)],\n",
    "    \"Department_ID\": [random.randint(1, num_departments) for _ in range(num_courses)]\n",
    "}\n",
    "course_df = pd.DataFrame(course_data)\n",
    "\n",
    "# 3. PROFESSOR_DIMENSION - Generierung der Professorendaten\n",
    "professor_data = {\n",
    "    \"Professor_ID\": range(1, num_professors + 1),\n",
    "    \"First_Name\": [fake.first_name() for _ in range(num_professors)],\n",
    "    \"Last_Name\": [fake.last_name() for _ in range(num_professors)],\n",
    "    \"Email\": [f\"{fake.first_name().lower()}.{fake.last_name().lower()}@university.com\" for _ in range(num_professors)]\n",
    "}\n",
    "professor_df = pd.DataFrame(professor_data)\n",
    "\n",
    "# 4. DEPARTMENT_DIMENSION - Generierung der Abteilungsdaten\n",
    "department_names = [\"Computer Science\", \"Business Administration\", \"Psychology\"]\n",
    "department_data = {\n",
    "    \"Department_ID\": range(1, num_departments + 1),\n",
    "    \"Department_Name\": department_names\n",
    "}\n",
    "department_df = pd.DataFrame(department_data)\n",
    "\n",
    "# 5. ENROLLMENT_FACTS - Generierung der Einschreibungen\n",
    "enrollment_data = {\n",
    "    \"Enrollment_ID\": range(1, num_enrollments + 1),\n",
    "    \"Student_ID\": [random.randint(1, num_students) for _ in range(num_enrollments)],\n",
    "    \"Course_ID\": [random.randint(1, num_courses) for _ in range(num_enrollments)],\n",
    "    \"Professor_ID\": [random.randint(1, num_professors) for _ in range(num_enrollments)],\n",
    "    \"Enrollment_Date\": [random_date(datetime(2021, 1, 1), datetime(2023, 12, 31)).date() for _ in range(num_enrollments)],\n",
    "    \"Grade\": [random.choice(['A', 'B', 'C', 'D', 'F']) for _ in range(num_enrollments)]\n",
    "}\n",
    "enrollment_df = pd.DataFrame(enrollment_data)\n",
    "\n",
    "# Speichern der DataFrames als CSV-Dateien im 'tables'-Ordner\n",
    "student_df.to_csv(os.path.join(output_folder, \"STUDENT_DIMENSION.csv\"), index=False)\n",
    "course_df.to_csv(os.path.join(output_folder, \"COURSE_DIMENSION.csv\"), index=False)\n",
    "professor_df.to_csv(os.path.join(output_folder, \"PROFESSOR_DIMENSION.csv\"), index=False)\n",
    "department_df.to_csv(os.path.join(output_folder, \"DEPARTMENT_DIMENSION.csv\"), index=False)\n",
    "enrollment_df.to_csv(os.path.join(output_folder, \"ENROLLMENT_FACTS.csv\"), index=False)\n",
    "\n",
    "print(\"CSV-Dateien wurden erfolgreich im 'tables'-Ordner gespeichert.\")\n"
   ]
  },
  {
   "cell_type": "code",
   "execution_count": 6,
   "metadata": {},
   "outputs": [
    {
     "name": "stdout",
     "output_type": "stream",
     "text": [
      "NAME                                ID              SIZE      MODIFIED       \n",
      "qwen2.5:7b                          845dbda0ea48    4.7 GB    13 seconds ago    \n",
      "custom_qwen2.5:7b_seed_42_temp_0    2849624f7fb4    4.7 GB    14 seconds ago    \n",
      "\n",
      "Available models listed successfully.\n"
     ]
    }
   ],
   "source": [
    "import subprocess\n",
    "\n",
    "# List available models in Ollama\n",
    "process = subprocess.Popen([\"ollama\", \"list\"], stdout=subprocess.PIPE, stderr=subprocess.PIPE)\n",
    "\n",
    "# Ausgabe anzeigen\n",
    "stdout, stderr = process.communicate()\n",
    "print(stdout.decode(\"utf-8\"))\n",
    "\n",
    "if stderr:\n",
    "    print(\"Error:\", stderr.decode(\"utf-8\"))\n",
    "else:\n",
    "    print(\"Available models listed successfully.\")"
   ]
  },
  {
   "cell_type": "code",
   "execution_count": 7,
   "metadata": {},
   "outputs": [],
   "source": [
    "from src.variables import database_schema_mermaid"
   ]
  },
  {
   "cell_type": "code",
   "execution_count": 8,
   "metadata": {},
   "outputs": [],
   "source": [
    "preprompt = \"Your task is to generate executable SQL queries based on my provided model. Please adhere strictly to my model. For each of my questions, generate an executable SELECT SQL query. Do not provide any comments or explanations, only the query. Give me only one query per Question, make sure to start the query with 'SELECT' and end it with a ';'. I am using a sqllite-Database.\""
   ]
  },
  {
   "cell_type": "code",
   "execution_count": 9,
   "metadata": {},
   "outputs": [],
   "source": [
    "# Deine 5 Fachfragen in einer Liste\n",
    "liste_fachfragen = [\n",
    "    \"Welche Kurse werden am häufigsten von Studenten wiederholt? Zeige die Kursnamen und die Anzahl der Wiederholungen.\",\n",
    "    \"Welcher Kurs hat die meisten Teilnehmer? Zeige den Kursnamen und die Teilnehmerzahl.\",\n",
    "    \"Wie viele Einschreibungen gab es pro Monat im letzten Jahr? Zeige die Monate und die Anzahl der Einschreibungen.\",\n",
    "    \"Welche Studenten haben sich im letzten Jahr eingeschrieben? Zeige die Namen und Einschreibedatum.\",\n",
    "    \"Wie viele verschiedene Fächer unterrichtet jede Abteilung? Zeige die Abteilungsnamen und Anzahl der Fächer.\",\n",
    "    \"Welche Studenten haben Kurse aus mindestens drei verschiedenen Abteilungen belegt? Zeige die Namen der Studenten und die Anzahl der Abteilungen.\"\n",
    "]"
   ]
  },
  {
   "cell_type": "code",
   "execution_count": null,
   "metadata": {},
   "outputs": [],
   "source": [
    "liste_model_output = [] # Liste, in welche gleich die Ouputs des Modells gepeichert werden\n",
    "\n",
    "# Liste mit Prompts für das Modell erstellen\n",
    "prompts = [f\"{database_schema_mermaid} {preprompt} {frage}\" for frage in liste_fachfragen]\n",
    "\n",
    "# Liste zum Speichern der Model Outputs\n",
    "liste_model_output = []\n",
    "\n",
    "# Schleife über die Prompts\n",
    "for prompt, frage in zip(prompts, liste_fachfragen):\n",
    "    # Modell für jede Frage neu starten und Prompt senden\n",
    "    process = subprocess.Popen(\n",
    "        [\"ollama\", \"run\", model_custom],\n",
    "        stdin=subprocess.PIPE,\n",
    "        stdout=subprocess.PIPE,\n",
    "        stderr=subprocess.PIPE\n",
    "    )\n",
    "    \n",
    "    # Sende den Prompt an das Modell und empfange die Antwort\n",
    "    stdout, stderr = process.communicate(input=prompt.encode())\n",
    "    \n",
    "    # Output dekodieren und in der Liste speichern\n",
    "    output = stdout.decode().strip()\n",
    "    liste_model_output.append(output)  # Speichern des Outputs in der Liste"
   ]
  },
  {
   "cell_type": "code",
   "execution_count": 11,
   "metadata": {},
   "outputs": [],
   "source": [
    "from src.functions import extract_sql_statement"
   ]
  },
  {
   "cell_type": "code",
   "execution_count": 12,
   "metadata": {},
   "outputs": [],
   "source": [
    "# Funktion, die den Output des Modells so trimmt, dass nur das SQL-Statement stehen bleibt.\n",
    "from src.functions import extract_sql_statement\n",
    "\n",
    "# Beispielaufruf\n",
    "output = stdout.decode()\n",
    "\n",
    "# Anwenden der Extraktionsfunktion\n",
    "trimmed_output = extract_sql_statement(output)\n"
   ]
  },
  {
   "cell_type": "code",
   "execution_count": 13,
   "metadata": {},
   "outputs": [],
   "source": [
    "# Importiere die Funktion, die das SQL-Statement extrahiert\n",
    "from src.functions import extract_sql_statement\n",
    "\n",
    "# Neue Liste, die nur die getrimmten SQL-Statements speichern wird\n",
    "liste_trimmed_sql = [extract_sql_statement(output) for output in liste_model_output]\n",
    "\n"
   ]
  },
  {
   "cell_type": "code",
   "execution_count": 14,
   "metadata": {},
   "outputs": [],
   "source": [
    "import sqlite3\n",
    "import pandas as pd"
   ]
  },
  {
   "cell_type": "code",
   "execution_count": 15,
   "metadata": {},
   "outputs": [
    {
     "name": "stdout",
     "output_type": "stream",
     "text": [
      "Tabellen wurden erfolgreich erstellt.\n"
     ]
    }
   ],
   "source": [
    "from src.functions import create_tables\n",
    "\n",
    "# Datenbank und Tabellen erstellen\n",
    "create_tables('university_database.db')"
   ]
  },
  {
   "cell_type": "code",
   "execution_count": 16,
   "metadata": {},
   "outputs": [],
   "source": [
    "# Verbindung und Cursor erstellen\n",
    "conn = sqlite3.connect('university_database.db')\n",
    "cursor = conn.cursor()"
   ]
  },
  {
   "cell_type": "code",
   "execution_count": 17,
   "metadata": {},
   "outputs": [
    {
     "name": "stdout",
     "output_type": "stream",
     "text": [
      "[('COURSE_DIMENSION',), ('DEPARTMENT_DIMENSION',), ('ENROLLMENT_FACTS',), ('PROFESSOR_DIMENSION',), ('STUDENT_DIMENSION',)]\n"
     ]
    }
   ],
   "source": [
    "# Zeige alle Tabellen (Namen) in der Datenbank an\n",
    "cursor.execute(\"SELECT name FROM sqlite_master WHERE type='table';\")\n",
    "print(cursor.fetchall())"
   ]
  },
  {
   "cell_type": "code",
   "execution_count": 18,
   "metadata": {},
   "outputs": [],
   "source": [
    "from src.functions import import_csv_to_sqlite"
   ]
  },
  {
   "cell_type": "code",
   "execution_count": 19,
   "metadata": {},
   "outputs": [],
   "source": [
    "from src.functions import import_all_csv_to_sqlite"
   ]
  },
  {
   "cell_type": "code",
   "execution_count": 20,
   "metadata": {},
   "outputs": [
    {
     "name": "stdout",
     "output_type": "stream",
     "text": [
      "Importiert: COURSE_DIMENSION\n",
      "Tabelle 'COURSE_DIMENSION' wurde aus 'COURSE_DIMENSION.csv' importiert.\n",
      "Importiert: DEPARTMENT_DIMENSION\n",
      "Tabelle 'DEPARTMENT_DIMENSION' wurde aus 'DEPARTMENT_DIMENSION.csv' importiert.\n",
      "Importiert: ENROLLMENT_FACTS\n",
      "Tabelle 'ENROLLMENT_FACTS' wurde aus 'ENROLLMENT_FACTS.csv' importiert.\n",
      "Importiert: PROFESSOR_DIMENSION\n",
      "Tabelle 'PROFESSOR_DIMENSION' wurde aus 'PROFESSOR_DIMENSION.csv' importiert.\n",
      "Importiert: STUDENT_DIMENSION\n",
      "Tabelle 'STUDENT_DIMENSION' wurde aus 'STUDENT_DIMENSION.csv' importiert.\n"
     ]
    }
   ],
   "source": [
    "# Beispielaufruf für den Ordner \"tables\" und eine persistente Datenbank\n",
    "import_all_csv_to_sqlite('tables', db_name='university_database.db')"
   ]
  },
  {
   "cell_type": "code",
   "execution_count": 22,
   "metadata": {},
   "outputs": [
    {
     "name": "stdout",
     "output_type": "stream",
     "text": [
      "\\section*{Frage 1:}\n",
      "Welche Kurse werden am häufigsten von Studenten wiederholt? Zeige die Kursnamen und die Anzahl der Wiederholungen.\n",
      "\n",
      "\n",
      "\\subsection*{Durch das Modell generierte SQL-Abfrage:}\n",
      "\\begin{minted}[fontsize=\\small, breaklines, linenos]{sql}\n",
      "SELECT C.Course_Name, COUNT(E.Enrollment_ID) AS Repeated_Course_Count\n",
      "FROM ENROLLMENT_FACTS E\n",
      "JOIN COURSE_DIMENSION C ON E.Course_ID = C.Course_ID\n",
      "WHERE E.Grade IN ('F', 'W')\n",
      "GROUP BY C.Course_Name\n",
      "ORDER BY Repeated_Course_Count DESC;\n",
      "\\end{minted}\n",
      "\\subsection*{Ergebnis der durch das Modell generierten SQL-Abfrage:}\n",
      "\\begin{tabular}{lr}\n",
      "\\toprule\n",
      "                Course\\_Name &  Repeated\\_Course\\_Count \\\\\n",
      "\\midrule\n",
      "    Programming with Python &                     11 \\\\\n",
      "              Deep Learning &                      9 \\\\\n",
      "         Data Visualization &                      8 \\\\\n",
      "               Ethics in AI &                      7 \\\\\n",
      "Statistics for Data Science &                      6 \\\\\n",
      "          Big Data Analysis &                      6 \\\\\n",
      "           Database Systems &                      4 \\\\\n",
      "        Data Science Basics &                      4 \\\\\n",
      "  Advanced Machine Learning &                      4 \\\\\n",
      "         Project Management &                      3 \\\\\n",
      "\\bottomrule\n",
      "\\end{tabular}\n",
      "\n",
      "\\section*{Frage 2:}\n",
      "Welcher Kurs hat die meisten Teilnehmer? Zeige den Kursnamen und die Teilnehmerzahl.\n",
      "\n",
      "\n",
      "\\subsection*{Durch das Modell generierte SQL-Abfrage:}\n",
      "\\begin{minted}[fontsize=\\small, breaklines, linenos]{sql}\n",
      "SELECT C.Course_Name, COUNT(E.Student_ID) AS Participant_Count\n",
      "FROM ENROLLMENT_FACTS E\n",
      "JOIN COURSE_DIMENSION C ON E.Course_ID = C.Course_ID\n",
      "GROUP BY C.Course_Name\n",
      "ORDER BY Participant_Count DESC\n",
      "LIMIT 1;\n",
      "\\end{minted}\n",
      "\\subsection*{Ergebnis der durch das Modell generierten SQL-Abfrage:}\n",
      "\\begin{tabular}{lr}\n",
      "\\toprule\n",
      "      Course\\_Name &  Participant\\_Count \\\\\n",
      "\\midrule\n",
      "Big Data Analysis &                 40 \\\\\n",
      "\\bottomrule\n",
      "\\end{tabular}\n",
      "\n",
      "\\section*{Frage 3:}\n",
      "Wie viele Einschreibungen gab es pro Monat im letzten Jahr? Zeige die Monate und die Anzahl der Einschreibungen.\n",
      "\n",
      "\n",
      "\\subsection*{Durch das Modell generierte SQL-Abfrage:}\n",
      "\\begin{minted}[fontsize=\\small, breaklines, linenos]{sql}\n",
      "SELECT strftime('%Y-%m', Enrollment_Date) AS Month, COUNT(*) AS Enrollment_Count \n",
      "FROM ENROLLMENT_FACTS \n",
      "WHERE Enrollment_Date BETWEEN DATE('now', '-1 year') AND DATE('now') \n",
      "GROUP BY Month;\n",
      "\\end{minted}\n",
      "\\subsection*{Ergebnis der durch das Modell generierten SQL-Abfrage:}\n",
      "\\begin{tabular}{lr}\n",
      "\\toprule\n",
      "  Month &  Enrollment\\_Count \\\\\n",
      "\\midrule\n",
      "2023-11 &                 1 \\\\\n",
      "2023-12 &                 6 \\\\\n",
      "\\bottomrule\n",
      "\\end{tabular}\n",
      "\n",
      "\\section*{Frage 4:}\n",
      "Welche Studenten haben sich im letzten Jahr eingeschrieben? Zeige die Namen und Einschreibedatum.\n",
      "\n",
      "\n",
      "\\subsection*{Durch das Modell generierte SQL-Abfrage:}\n",
      "\\begin{minted}[fontsize=\\small, breaklines, linenos]{sql}\n",
      "SELECT S.First_Name, S.Last_Name, E.Enrollment_Date \n",
      "FROM STUDENT_DIMENSION S \n",
      "JOIN ENROLLMENT_FACTS E ON S.Student_ID = E.Student_ID \n",
      "WHERE E.Enrollment_Date >= DATE('now', '-1 year');\n",
      "\\end{minted}\n",
      "\\subsection*{Ergebnis der durch das Modell generierten SQL-Abfrage:}\n",
      "\\begin{tabular}{lll}\n",
      "\\toprule\n",
      "First\\_Name & Last\\_Name & Enrollment\\_Date \\\\\n",
      "\\midrule\n",
      "   Whitney &   Hensley &      2023-12-24 \\\\\n",
      "  Patricia & Rodriguez &      2023-12-24 \\\\\n",
      "     Tasha &      Kidd &      2023-12-14 \\\\\n",
      "    George &    Morgan &      2023-11-18 \\\\\n",
      "     Debra &    Gaines &      2023-12-04 \\\\\n",
      "   Jeffrey &    Morgan &      2023-12-23 \\\\\n",
      "    Amanda &  Humphrey &      2023-12-23 \\\\\n",
      "\\bottomrule\n",
      "\\end{tabular}\n",
      "\n",
      "\\section*{Frage 5:}\n",
      "Wie viele verschiedene Fächer unterrichtet jede Abteilung? Zeige die Abteilungsnamen und Anzahl der Fächer.\n",
      "\n",
      "\n",
      "\\subsection*{Durch das Modell generierte SQL-Abfrage:}\n",
      "\\begin{minted}[fontsize=\\small, breaklines, linenos]{sql}\n",
      "SELECT DEPARTMENT_DIMENSION.Department_Name, COUNT(COURSE_DIMENSION.Course_ID) AS Number_of_Courses\n",
      "FROM COURSE_DIMENSION\n",
      "JOIN DEPARTMENT_DIMENSION ON COURSE_DIMENSION.Department_ID = DEPARTMENT_DIMENSION.Department_ID\n",
      "GROUP BY DEPARTMENT_DIMENSION.Department_Name;\n",
      "\\end{minted}\n",
      "\\subsection*{Ergebnis der durch das Modell generierten SQL-Abfrage:}\n",
      "\\begin{tabular}{lr}\n",
      "\\toprule\n",
      "        Department\\_Name &  Number\\_of\\_Courses \\\\\n",
      "\\midrule\n",
      "Business Administration &                  3 \\\\\n",
      "       Computer Science &                  4 \\\\\n",
      "             Psychology &                  3 \\\\\n",
      "\\bottomrule\n",
      "\\end{tabular}\n",
      "\n",
      "\\section*{Frage 6:}\n",
      "Welche Studenten haben Kurse aus mindestens drei verschiedenen Abteilungen belegt? Zeige die Namen der Studenten und die Anzahl der Abteilungen.\n",
      "\n",
      "\n",
      "\\subsection*{Durch das Modell generierte SQL-Abfrage:}\n",
      "\\begin{minted}[fontsize=\\small, breaklines, linenos]{sql}\n",
      "SELECT S.First_Name, S.Last_Name, COUNT(DISTINCT D.Department_Name) AS Number_of_Departments\n",
      "FROM STUDENT_DIMENSION S\n",
      "JOIN ENROLLMENT_FACTS E ON S.Student_ID = E.Student_ID\n",
      "JOIN COURSE_DIMENSION C ON E.Course_ID = C.Course_ID\n",
      "JOIN DEPARTMENT_DIMENSION D ON C.Department_ID = D.Department_ID\n",
      "GROUP BY S.Student_ID, S.First_Name, S.Last_Name\n",
      "HAVING COUNT(DISTINCT D.Department_Name) >= 3;\n",
      "\\end{minted}\n",
      "\\subsection*{Ergebnis der durch das Modell generierten SQL-Abfrage:}\n",
      "\\begin{tabular}{llr}\n",
      "\\toprule\n",
      " First\\_Name & Last\\_Name &  Number\\_of\\_Departments \\\\\n",
      "\\midrule\n",
      "   Danielle &     Smith &                      3 \\\\\n",
      "    Jeffrey &   Herrera &                      3 \\\\\n",
      "    Anthony &     Mason &                      3 \\\\\n",
      "      James &     White &                      3 \\\\\n",
      "    Jeffrey &     Evans &                      3 \\\\\n",
      "       Adam & Hernandez &                      3 \\\\\n",
      "      Linda &    Farmer &                      3 \\\\\n",
      "      Susan &     Smith &                      3 \\\\\n",
      "Christopher &     Smith &                      3 \\\\\n",
      "    Lindsay &    Parker &                      3 \\\\\n",
      "    Jessica &     Brown &                      3 \\\\\n",
      "     Teresa &    Arroyo &                      3 \\\\\n",
      "     Jeremy &     Baker &                      3 \\\\\n",
      "    Deborah &  Martinez &                      3 \\\\\n",
      "    Chelsea &    Walker &                      3 \\\\\n",
      "     Angela &     Perez &                      3 \\\\\n",
      "    Leonard &   Mueller &                      3 \\\\\n",
      "      Diana &   Aguirre &                      3 \\\\\n",
      "    Rachael &    Garcia &                      3 \\\\\n",
      "   Reginald &    Powell &                      3 \\\\\n",
      "    Jeffrey &    Morgan &                      3 \\\\\n",
      "    Whitney &   Hensley &                      3 \\\\\n",
      "      Bryan &     Ramos &                      3 \\\\\n",
      "\\bottomrule\n",
      "\\end{tabular}\n",
      "\n"
     ]
    }
   ],
   "source": [
    "# Ausgabe des Experiments, optimiert für LaTeX\n",
    "\n",
    "import pandas as pd\n",
    "\n",
    "# Funktion zum Konvertieren eines DataFrames in eine LaTeX-Tabelle\n",
    "def df_to_latex(df):\n",
    "    return df.to_latex(index=False)\n",
    "\n",
    "# Zähler für die Fragen initialisieren\n",
    "frage_nummer = 1\n",
    "\n",
    "# Schleife über die Fachfragen und zugehörigen SQL-Statements\n",
    "for frage, sql_query in zip(liste_fachfragen, liste_trimmed_sql):\n",
    "    try:\n",
    "        # Führe die SQL-Abfrage aus\n",
    "        cursor.execute(sql_query)\n",
    "        \n",
    "        # Frage und SQL-Abfrage für LaTeX-Ausgabe vorbereiten\n",
    "        print(rf\"\\section*{{Frage {frage_nummer}:}}\")\n",
    "        print(frage)\n",
    "        # print(r\"\\textbf{\" + frage + \"}\")\n",
    "        print(\"\\n\")\n",
    "        \n",
    "        print(r\"\\subsection*{Durch das Modell generierte SQL-Abfrage:}\")\n",
    "        print(r\"\\begin{minted}[fontsize=\\small, breaklines, linenos]{sql}\")\n",
    "        print(sql_query)\n",
    "        print(r\"\\end{minted}\")\n",
    "        \n",
    "        # Ergebnisse der SQL-Abfrage in ein DataFrame laden und in LaTeX-Format umwandeln\n",
    "        df = pd.DataFrame(cursor.fetchall(), columns=[description[0] for description in cursor.description])\n",
    "        \n",
    "        # DataFrame in LaTeX-Tabellenformat anzeigen\n",
    "        print(r\"\\subsection*{Ergebnis der durch das Modell generierten SQL-Abfrage:}\")\n",
    "        print(df_to_latex(df))\n",
    "        \n",
    "        # Frage-Zähler erhöhen\n",
    "        frage_nummer += 1\n",
    "\n",
    "    except Exception as e:\n",
    "        # Fehlerbehandlung bei SQL-Ausführungsfehlern in LaTeX-Format\n",
    "        print(rf\"\\section*{{Frage {frage_nummer}: Fehler bei der Ausführung der Abfrage}}\")\n",
    "        print(r\"\\textbf{Frage:} \" + frage)\n",
    "        print(r\"\\textbf{Fehlermeldung:} \" + str(e))\n",
    "        print(r\"\\noindent\\rule{\\textwidth}{0.4pt}\")\n",
    "        "
   ]
  }
 ],
 "metadata": {
  "kernelspec": {
   "display_name": ".venv",
   "language": "python",
   "name": "python3"
  },
  "language_info": {
   "codemirror_mode": {
    "name": "ipython",
    "version": 3
   },
   "file_extension": ".py",
   "mimetype": "text/x-python",
   "name": "python",
   "nbconvert_exporter": "python",
   "pygments_lexer": "ipython3",
   "version": "3.10.15"
  }
 },
 "nbformat": 4,
 "nbformat_minor": 2
}
